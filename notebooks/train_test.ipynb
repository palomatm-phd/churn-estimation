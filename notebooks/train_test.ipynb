{
 "cells": [
  {
   "cell_type": "code",
   "execution_count": 2,
   "id": "f972643d",
   "metadata": {},
   "outputs": [
    {
     "name": "stdout",
     "output_type": "stream",
     "text": [
      "Cargando datos desde '../data/raw/dataset.csv'...\n",
      "Datos cargados correctamente.\n",
      "El dataset tiene 100000 filas y 100 columnas.\n",
      "Tamaño del conjunto de entrenamiento: 80000 filas\n",
      "Tamaño del conjunto de prueba: 20000 filas\n",
      "Guardando conjunto de entrenamiento en '../data/raw/train.csv' (separado por ';')...\n",
      "Guardando conjunto de prueba en '../data/raw/test.csv' (separado por ';')...\n"
     ]
    }
   ],
   "source": [
    "# Importamos las librerías necesarias\n",
    "import pandas as pd\n",
    "from sklearn.model_selection import train_test_split\n",
    "import os\n",
    "\n",
    "\n",
    "ORIGINAL_DATA_PATH = '../data/raw/dataset.csv' \n",
    "\n",
    "TARGET_COLUMN = 'churn' \n",
    "\n",
    "OUTPUT_DIR = '../data/raw/'\n",
    "\n",
    "TEST_SIZE = 0.2\n",
    "\n",
    "RANDOM_STATE = 42\n",
    "\n",
    "os.makedirs(OUTPUT_DIR, exist_ok=True)\n",
    "\n",
    "try:\n",
    "    print(f\"Cargando datos desde '{ORIGINAL_DATA_PATH}'...\")\n",
    "    df = pd.df = pd.read_csv(ORIGINAL_DATA_PATH, sep=';', low_memory=False)\n",
    "    print(\"Datos cargados correctamente.\")\n",
    "    print(f\"El dataset tiene {df.shape[0]} filas y {df.shape[1]} columnas.\")\n",
    "except FileNotFoundError:\n",
    "    print(f\"Error: El fichero '{ORIGINAL_DATA_PATH}' no se encontró.\")\n",
    "    exit()\n",
    "\n",
    "X = df.drop(TARGET_COLUMN, axis=1)\n",
    "\n",
    "y = df[TARGET_COLUMN]\n",
    "\n",
    "X_train, X_test, y_train, y_test = train_test_split(\n",
    "    X, \n",
    "    y, \n",
    "    test_size=TEST_SIZE, \n",
    "    random_state=RANDOM_STATE,\n",
    "    stratify=y \n",
    ")\n",
    "\n",
    "print(f\"Tamaño del conjunto de entrenamiento: {X_train.shape[0]} filas\")\n",
    "print(f\"Tamaño del conjunto de prueba: {X_test.shape[0]} filas\")\n",
    "\n",
    "train_df = pd.concat([X_train, y_train], axis=1)\n",
    "test_df = pd.concat([X_test, y_test], axis=1)\n",
    "\n",
    "train_path = os.path.join(OUTPUT_DIR, 'train.csv')\n",
    "test_path = os.path.join(OUTPUT_DIR, 'test.csv')\n",
    "\n",
    "print(f\"Guardando conjunto de entrenamiento en '{train_path}' (separado por ';')...\")\n",
    "train_df.to_csv(train_path, index=False, sep=';') \n",
    "\n",
    "print(f\"Guardando conjunto de prueba en '{test_path}' (separado por ';')...\")\n",
    "test_df.to_csv(test_path, index=False, sep=';') \n",
    "\n",
    "\n"
   ]
  }
 ],
 "metadata": {
  "kernelspec": {
   "display_name": ".churn-env",
   "language": "python",
   "name": "python3"
  },
  "language_info": {
   "codemirror_mode": {
    "name": "ipython",
    "version": 3
   },
   "file_extension": ".py",
   "mimetype": "text/x-python",
   "name": "python",
   "nbconvert_exporter": "python",
   "pygments_lexer": "ipython3",
   "version": "3.12.3"
  }
 },
 "nbformat": 4,
 "nbformat_minor": 5
}

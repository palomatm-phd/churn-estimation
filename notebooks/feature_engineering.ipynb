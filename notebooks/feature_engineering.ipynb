{
 "cells": [
  {
   "cell_type": "code",
   "execution_count": 17,
   "id": "16886c8b",
   "metadata": {},
   "outputs": [],
   "source": [
    "import pandas as pd\n",
    "import numpy as np\n",
    "import matplotlib.pyplot as plt\n",
    "import seaborn as sns\n",
    "df_train = pd.read_csv('../data/processed/train_clean.csv', sep=';')\n",
    "\n",
    "df_train.columns\n",
    "\n",
    "TARGET='churn'"
   ]
  },
  {
   "cell_type": "code",
   "execution_count": null,
   "id": "9a81c866",
   "metadata": {},
   "outputs": [
    {
     "name": "stdout",
     "output_type": "stream",
     "text": [
      "Variable Objetivo: churn\n",
      "\n",
      "Variables Numéricas (87): ['rev_Mean', 'mou_Mean', 'totmrc_Mean', 'da_Mean', 'ovrmou_Mean', 'ovrrev_Mean', 'vceovr_Mean', 'datovr_Mean', 'roam_Mean', 'change_mou', 'change_rev', 'drop_vce_Mean', 'drop_dat_Mean', 'blck_vce_Mean', 'blck_dat_Mean', 'unan_vce_Mean', 'unan_dat_Mean', 'plcd_vce_Mean', 'plcd_dat_Mean', 'recv_vce_Mean', 'recv_sms_Mean', 'comp_vce_Mean', 'comp_dat_Mean', 'custcare_Mean', 'ccrndmou_Mean', 'cc_mou_Mean', 'inonemin_Mean', 'threeway_Mean', 'mou_cvce_Mean', 'mou_cdat_Mean', 'mou_rvce_Mean', 'owylis_vce_Mean', 'mouowylisv_Mean', 'iwylis_vce_Mean', 'mouiwylisv_Mean', 'peak_vce_Mean', 'peak_dat_Mean', 'mou_peav_Mean', 'mou_pead_Mean', 'opk_vce_Mean', 'opk_dat_Mean', 'mou_opkv_Mean', 'mou_opkd_Mean', 'drop_blk_Mean', 'attempt_Mean', 'complete_Mean', 'callfwdv_Mean', 'callwait_Mean', 'months', 'uniqsubs', 'actvsubs', 'totcalls', 'totmou', 'totrev', 'adjrev', 'adjmou', 'adjqty', 'avgrev', 'avgmou', 'avgqty', 'avg3mou', 'avg3qty', 'avg3rev', 'avg6mou', 'avg6qty', 'avg6rev', 'hnd_price', 'phones', 'models', 'truck', 'rv', 'lor', 'adults', 'income', 'numbcars', 'forgntvl', 'eqpdays', 'Customer_ID', 'infobase_isnull', 'rev_Mean_isnull', 'hnd_price_isnull', 'change_rev_isnull', 'avg6rev_isnull', 'lor_isnull', 'adults_isnull', 'income_isnull', 'numbcars_isnull']\n",
      "\n",
      "Variables Categóricas (21): ['new_cell', 'crclscod', 'asl_flag', 'prizm_social_one', 'area', 'dualband', 'refurb_new', 'hnd_webcap', 'ownrent', 'dwlltype', 'marital', 'infobase', 'HHstatin', 'dwllsize', 'ethnic', 'kid0_2', 'kid3_5', 'kid6_10', 'kid11_15', 'kid16_17', 'creditcd']\n"
     ]
    }
   ],
   "source": [
    "\n",
    "sns.set_style('whitegrid')\n",
    "pd.set_option('display.max_columns', None)\n",
    "\n",
    "TARGET = 'churn'\n",
    "\n",
    "# Separamos los tipos de columnas para analizarlas de forma diferente\n",
    "categorical_cols = df_train.select_dtypes(include=['object', 'category']).columns.tolist()\n",
    "numerical_cols = df_train.select_dtypes(include=['number']).columns.tolist()\n",
    "\n",
    "# Nos aseguramos de que la variable objetivo no está en las listas de predictoras\n",
    "if TARGET in numerical_cols:\n",
    "    numerical_cols.remove(TARGET)\n",
    "if TARGET in categorical_cols:\n",
    "    categorical_cols.remove(TARGET)\n",
    "\n",
    "#After checking there are no repeated Customer_ID values, that is not a relevant value even it is a number\n",
    "df_train.remove['Customer_ID']\n",
    "\n",
    "print(f\"Variable Objetivo: {TARGET}\")\n",
    "print(f\"\\nVariables Numéricas ({len(numerical_cols)}): {numerical_cols}\")\n",
    "print(f\"\\nVariables Categóricas ({len(categorical_cols)}): {categorical_cols}\")\n"
   ]
  },
  {
   "cell_type": "code",
   "execution_count": 19,
   "id": "3618bd2b",
   "metadata": {},
   "outputs": [
    {
     "name": "stdout",
     "output_type": "stream",
     "text": [
      "Numerical column truck has 2 unique values: [0, 1]\n",
      "Categories (2, int64): [0, 1]\n",
      "\n",
      "Numerical column rv has 2 unique values: [0, 1]\n",
      "Categories (2, int64): [0, 1]\n",
      "\n",
      "Numerical column forgntvl has 2 unique values: [0, 1]\n",
      "Categories (2, int64): [0, 1]\n",
      "\n",
      "Numerical column infobase_isnull has 2 unique values: [0, 1]\n",
      "Categories (2, int64): [0, 1]\n",
      "\n",
      "Numerical column rev_Mean_isnull has 2 unique values: [0, 1]\n",
      "Categories (2, int64): [0, 1]\n",
      "\n",
      "Numerical column hnd_price_isnull has 2 unique values: [0, 1]\n",
      "Categories (2, int64): [0, 1]\n",
      "\n",
      "Numerical column change_rev_isnull has 2 unique values: [0, 1]\n",
      "Categories (2, int64): [0, 1]\n",
      "\n",
      "Numerical column avg6rev_isnull has 2 unique values: [0, 1]\n",
      "Categories (2, int64): [0, 1]\n",
      "\n",
      "Numerical column lor_isnull has 2 unique values: [0, 1]\n",
      "Categories (2, int64): [0, 1]\n",
      "\n",
      "Numerical column adults_isnull has 2 unique values: [0, 1]\n",
      "Categories (2, int64): [0, 1]\n",
      "\n",
      "Numerical column income_isnull has 2 unique values: [0, 1]\n",
      "Categories (2, int64): [0, 1]\n",
      "\n",
      "Numerical column numbcars_isnull has 2 unique values: [0, 1]\n",
      "Categories (2, int64): [0, 1]\n",
      "\n",
      "Categorical new_cell has 3 unique values: ['U' 'N' 'Y']\n",
      "\n",
      "Categorical crclscod has 53 unique values: ['BA' 'E4' 'A' 'EA' 'AA' 'CA' 'C' 'B' 'EM' 'DA' 'W' 'D4' 'ZA' 'GA' 'B2'\n",
      " 'JF' 'A2' 'Z' 'G' 'E' 'M' 'I' 'C2' 'ZY' 'U' 'CY' 'A3' 'U1' 'J' 'Z5' 'EC'\n",
      " 'O' 'V1' 'D5' 'D' 'C5' 'Z4' 'K' 'Z1' 'L' 'CC' 'P1' 'GY' 'Y' 'IF' 'H' 'E2'\n",
      " 'EF' 'D2' 'S' 'Z2' 'TP' 'V']\n",
      "\n",
      "Categorical asl_flag has 2 unique values: ['N' 'Y']\n",
      "\n",
      "Categorical prizm_social_one has 6 unique values: ['U' 'S' 'UNKN' 'T' 'C' 'R']\n",
      "\n",
      "Categorical area has 20 unique values: ['CHICAGO AREA' 'ATLANTIC SOUTH AREA' 'NORTHWEST/ROCKY MOUNTAIN AREA'\n",
      " 'SOUTHWEST AREA' 'CALIFORNIA NORTH AREA' 'OHIO AREA' 'NEW ENGLAND AREA'\n",
      " 'DC/MARYLAND/VIRGINIA AREA' 'NEW YORK CITY AREA' 'LOS ANGELES AREA'\n",
      " 'TENNESSEE AREA' 'SOUTH FLORIDA AREA' 'MIDWEST AREA' 'GREAT LAKES AREA'\n",
      " 'CENTRAL/SOUTH TEXAS AREA' 'HOUSTON AREA' 'PHILADELPHIA AREA'\n",
      " 'DALLAS AREA' 'NORTH FLORIDA AREA' 'UNKN']\n",
      "\n",
      "Categorical dualband has 5 unique values: ['Y' 'N' 'T' 'U' 'UNKN']\n",
      "\n",
      "Categorical refurb_new has 3 unique values: ['N' 'R' 'UNKN']\n",
      "\n",
      "Categorical hnd_webcap has 4 unique values: ['WCMB' 'UNKN' 'WC' 'UNKW']\n",
      "\n",
      "Categorical ownrent has 3 unique values: ['O' 'UNKN' 'R']\n",
      "\n",
      "Categorical dwlltype has 3 unique values: ['S' 'UNKN' 'M']\n",
      "\n",
      "Categorical marital has 6 unique values: ['M' 'U' 'S' 'B' 'A' 'UNKN']\n",
      "\n",
      "Categorical infobase has 3 unique values: ['M' 'UNKN' 'N']\n",
      "\n",
      "Categorical HHstatin has 7 unique values: ['C' 'UNKN' 'I' 'B' 'A' 'H' 'G']\n",
      "\n",
      "Categorical dwllsize has 16 unique values: ['A' 'UNKN' 'L' 'F' 'I' 'E' 'C' 'H' 'J' 'B' 'N' 'O' 'D' 'M' 'K' 'G']\n",
      "\n",
      "Categorical ethnic has 18 unique values: ['Z' 'N' 'J' 'F' 'H' 'S' 'U' 'I' 'O' 'B' 'G' 'R' 'UNKN' 'D' 'X' 'C' 'P'\n",
      " 'M']\n",
      "\n",
      "Categorical kid0_2 has 3 unique values: ['U' 'Y' 'UNKN']\n",
      "\n",
      "Categorical kid3_5 has 3 unique values: ['U' 'Y' 'UNKN']\n",
      "\n",
      "Categorical kid6_10 has 3 unique values: ['U' 'Y' 'UNKN']\n",
      "\n",
      "Categorical kid11_15 has 3 unique values: ['U' 'Y' 'UNKN']\n",
      "\n",
      "Categorical kid16_17 has 3 unique values: ['U' 'Y' 'UNKN']\n",
      "\n",
      "Categorical creditcd has 3 unique values: ['Y' 'N' 'UNKN']\n",
      "\n"
     ]
    }
   ],
   "source": [
    "for col in numerical_cols:\n",
    "    unique_values = df_train[col].unique()\n",
    "    if len(unique_values) == 2:\n",
    "        #if 2 values, change from int or float to type category\n",
    "        df_train[col] = df_train[col].astype(int).astype('category')\n",
    "        print(f\"Numerical column {col} has {len(unique_values)} unique values: {df_train[col].unique()}\\n\")\n",
    "\n",
    "for col in categorical_cols:\n",
    "    unique_values = df_train[col].unique()\n",
    "    #Convert from object to category\n",
    "    df_train[col] = df_train[col].astype('category')\n",
    "    print(f\"Categorical {col} has {len(unique_values)} unique values: {unique_values}\\n\")\n"
   ]
  },
  {
   "cell_type": "code",
   "execution_count": 23,
   "id": "938a3352",
   "metadata": {},
   "outputs": [
    {
     "data": {
      "text/plain": [
       "80000"
      ]
     },
     "execution_count": 23,
     "metadata": {},
     "output_type": "execute_result"
    }
   ],
   "source": [
    "len(df_train['Customer_ID'].unique())"
   ]
  },
  {
   "cell_type": "markdown",
   "id": "a3ed0c42",
   "metadata": {},
   "source": [
    "### Reducción de dimensionalidad"
   ]
  },
  {
   "cell_type": "code",
   "execution_count": 20,
   "id": "dd4e2616",
   "metadata": {},
   "outputs": [
    {
     "name": "stdout",
     "output_type": "stream",
     "text": [
      "DataFrame original: (80000, 108)\n",
      "DataFrame codificado: (80000, 236)\n"
     ]
    }
   ],
   "source": [
    "X = df_train.drop(columns=[TARGET])\n",
    "y = df_train[TARGET]\n",
    "\n",
    "X_encoded = pd.get_dummies(X, columns=categorical_cols, drop_first=True)\n",
    "\n",
    "print(\"DataFrame original:\", X.shape)\n",
    "print(\"DataFrame codificado:\", X_encoded.shape)"
   ]
  },
  {
   "cell_type": "markdown",
   "id": "d80ff912",
   "metadata": {},
   "source": []
  },
  {
   "cell_type": "code",
   "execution_count": 22,
   "id": "94214618",
   "metadata": {},
   "outputs": [
    {
     "name": "stdout",
     "output_type": "stream",
     "text": [
      "--- Top 20 Variables Más Importantes ---\n",
      "          feature  importance\n",
      "76        eqpdays    0.029952\n",
      "9      change_mou    0.023047\n",
      "48         months    0.022735\n",
      "77    Customer_ID    0.021578\n",
      "1        mou_Mean    0.019169\n",
      "54         adjrev    0.018955\n",
      "10     change_rev    0.018652\n",
      "53         totrev    0.018511\n",
      "57         avgrev    0.018268\n",
      "59         avgqty    0.018195\n",
      "58         avgmou    0.017638\n",
      "0        rev_Mean    0.017467\n",
      "51       totcalls    0.017420\n",
      "55         adjmou    0.017369\n",
      "60        avg3mou    0.017221\n",
      "56         adjqty    0.016977\n",
      "52         totmou    0.016911\n",
      "28  mou_cvce_Mean    0.016335\n",
      "63        avg6mou    0.016152\n",
      "41  mou_opkv_Mean    0.016010\n"
     ]
    }
   ],
   "source": [
    "from sklearn.ensemble import RandomForestClassifier\n",
    "\n",
    "model = RandomForestClassifier(n_estimators=100, random_state=42, n_jobs=-1)\n",
    "model.fit(X_encoded, y)\n",
    "\n",
    "feature_importance = pd.DataFrame({\n",
    "    'feature': X_encoded.columns,\n",
    "    'importance': model.feature_importances_\n",
    "}).sort_values('importance', ascending=False)\n",
    "\n",
    "print(\"--- Top 20 Variables Más Importantes ---\")\n",
    "print(feature_importance.head(20))"
   ]
  }
 ],
 "metadata": {
  "kernelspec": {
   "display_name": ".churn-env",
   "language": "python",
   "name": "python3"
  },
  "language_info": {
   "codemirror_mode": {
    "name": "ipython",
    "version": 3
   },
   "file_extension": ".py",
   "mimetype": "text/x-python",
   "name": "python",
   "nbconvert_exporter": "python",
   "pygments_lexer": "ipython3",
   "version": "3.12.3"
  }
 },
 "nbformat": 4,
 "nbformat_minor": 5
}

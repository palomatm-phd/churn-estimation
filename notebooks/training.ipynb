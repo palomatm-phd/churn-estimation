{
 "cells": [
  {
   "cell_type": "code",
   "execution_count": null,
   "id": "757b9fcf",
   "metadata": {},
   "outputs": [],
   "source": [
    "import pandas as pd\n",
    "import numpy as np\n",
    "import matplotlib.pyplot as plt\n",
    "import seaborn as sns\n",
    "df_train = pd.read_csv('../data/processed/train_clean.csv', sep=';')\n",
    "\n",
    "df_train.columns\n",
    "\n",
    "TARGET='churn'\n",
    "\n",
    "df_test = pd.read_csv('data/raw/test.csv', sep=';')\n",
    "\n",
    "# 2. Aplicar la limpieza (ejemplo)\n",
    "# (Aquí replicarías la lógica de tus tareas de Airflow: crear flags, imputar ceros, etc.)\n",
    "# ... df_test = clean_data(df_test, config) ...\n",
    "\n",
    "# 3. Imputar nulos con los valores GUARDADOS del entrenamiento\n",
    "# (Cargarías tu 'imputation_values.json' y lo aplicarías)\n",
    "# ... df_test.fillna(valores_guardados, inplace=True) ...\n",
    "\n",
    "# 4. Aplicar One-Hot Encoding\n",
    "df_test_encoded = pd.get_dummies(df_test, columns=categorical_cols, drop_first=True)\n",
    "\n",
    "# 5. Asegurar que el test set tenga exactamente las mismas columnas que el train set\n",
    "# Puede que algunas categorías no existan en el test set, creando menos columnas.\n",
    "# Con este código nos aseguramos de que ambos tengan las mismas 236 columnas, rellenando con 0 las que falten.\n",
    "X_train_encoded_cols = X_encoded.columns # Asumiendo que X_encoded es tu train set de 236 columnas\n",
    "df_test_encoded = df_test_encoded.reindex(columns=X_train_encoded_cols, fill_value=0)\n",
    "\n",
    "# 6. Separar X_test y y_test\n",
    "X_test = df_test_encoded[final_features_list] # 'final_features_list' es tu lista de 50 mejores variables\n",
    "y_test = df_test[TARGET]"
   ]
  }
 ],
 "metadata": {
  "language_info": {
   "name": "python"
  }
 },
 "nbformat": 4,
 "nbformat_minor": 5
}
